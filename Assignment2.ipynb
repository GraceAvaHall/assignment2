{
 "cells": [
  {
   "cell_type": "markdown",
   "metadata": {},
   "source": [
    "# COMP90014 Assignment 2\n",
    "### Semester 2, 2020\n",
    "\n"
   ]
  },
  {
   "cell_type": "markdown",
   "metadata": {},
   "source": [
    "This assignment should be completed by each student individually. Make sure you read this entire document, and ask for help if anything is not clear. Any changes or clarification to this document will be announced via Canvas.\n",
    "\n",
    "Please make sure you are aware of the University's rules on academic honesty and plagiarism, which are very strict: https://academichonesty.unimelb.edu.au/ \n",
    "\n",
    "Make sure you **do not** copy any code either from other students or from the internet. This is considered plagiarism. It is generally a good idea to avoid looking at any solutions as you may find it surprisingly difficult to generate your own solution to the problem once you have seen somebody else's.\n",
    "\n",
    "Your completed notebook file containing all your answers will be turned in via Canvas. No other files or formats will be accepted - only upload the completed `.ipynb` file."
   ]
  },
  {
   "cell_type": "markdown",
   "metadata": {},
   "source": [
    "### Overview\n",
    "To complete the assignment you will need to finish the tasks in this notebook. There are multiple tasks that are connected in a logical order.\n",
    "\n",
    "The tasks are a combination of writing your own implementations of algorithms and data structures we've discussed in lectures (including adapting or describing them in plain English or pseudocode), interpret and analyse results  and your implementation choices. Each answer question has a word limit that will be strictly enforced! **Please note that for this assignment, you may be awarded a mark of zero for a question if you go over the word limit.**\n",
    "\n",
    "In some case, we have provided test input and test output that you can use to try out your solutions. These tests are just samples and are not exhaustive - they may warn you if you've made a mistake, but they are not guaranteed to. It's up to you to decide whether your code is correct."
   ]
  },
  {
   "cell_type": "markdown",
   "metadata": {},
   "source": [
    "### Pseudocode\n",
    "Pseudocode for algorithms are a series of logical steps which any programmer can understand.\n",
    "Here is the pseudocode for a function fizzbuzz to print numbers that are divisible by 3 or 5:\n",
    "\n",
    "```\n",
    "function fizzbuzz()\n",
    "    For i = 1 to 100\n",
    "        If i is divisible by 3 Then\n",
    "            Print \"Fizz\"\n",
    "        If i is divisible by 5 Then\n",
    "            Print \"Buzz\"\n",
    "```\n",
    "      \n",
    "As you can see, the basic steps are shown, but there is no language-specific syntax. <br>\n",
    "In this manner, pseudocode explains the algorithm procedure in **direct, plain language.** <br>\n",
    "As a note, if your function calls another function (lets call this function **boom**), write it as **boom()** in the pseudocode. The open/close brackets show that 'boom' is another function call.\n",
    "\n",
    "There are no real conventions aside from the above, so please use a style which you think is **clearest.**"
   ]
  },
  {
   "cell_type": "markdown",
   "metadata": {},
   "source": [
    "### Written Answer Questions\n",
    "\n",
    "A portion of this assignment is written answer. <br>\n",
    "We ask for students to use bullet points when possible. Bullet points clearly outline the order of steps which need to be performed. <br>\n",
    "\n",
    "Here is an example:<br>\n",
    "**Question:** <br>\n",
    "Describe with your own words how you would implement a function to calculate the GC content of a DNA sequence <br>\n",
    "**Answer:** <br>\n",
    "The GC content is the proportion of nucleotides that are either guanine ('G') or cytosine('C') in a sequence. To calculate:\n",
    "* record the length of the sequence\n",
    "* set a variable (call it GC_count) to 0 which will store the number of G and C bases\n",
    "* for each nucleotide in the sequence:\n",
    "    * if the nucleotide is 'G' or 'C', increment GC_count by 1\n",
    "* return GC_count / sequence length * 100\n",
    "* This will return the GC content as a percentage of all nucleotides\n",
    "\n",
    "These written answers don't need to be as detailed as pseudocode, where you should note any variables you declare, functions you call etc. <br>\n",
    "Written answers should be interpretable by a bioinformatician, who could then understand your method and write code if necessary. <br>\n",
    "The broad ideas and logical steps need to be there, but the exactly implementation does not always have to be written. <br>\n",
    "Pseudocode is a little different, and should be addressed as per the cell above."
   ]
  },
  {
   "cell_type": "markdown",
   "metadata": {},
   "source": [
    "### Marking\n",
    "\n",
    "Cells that must be completed to receive marks are clearly labeled. There are 14 graded cells, some of which are code cells, in which you must complete the code to solve a problem, and some of which are markdown cells, in which you must write your answers to questions or descriptions of algorithmic approaches (pseudocode or plain English might be requested). In order to get full marks, your code/answer needs to be clear, unambiguous, with adequate level of detail (and comments for Python code) as well as optimal time complexity. **Code style, readability and efficiency** will be taken into consideration.\n",
    "\n",
    "The total marks for the assignment add up to 40, and it will be worth 15% of your overall subject grade."
   ]
  },
  {
   "cell_type": "markdown",
   "metadata": {},
   "source": [
    "## Part I\n",
    "\n",
    "### Background and data \n",
    "\n",
    "WGCNA stands for weighted gene co-expression network analysis. It is a data analysis technique used for studying biological networks based on pairwise correlations of gene expression data. WGCNA is good at identifying clusters of genes that may be co-regulated, and therefore may have shared biological function.\n",
    "\n",
    "For this assignment, you will primarily be using the [FlyAtlas](http://flyatlas.org) dataset. For this assignment, instead of using the probe-wise dataset, we will be using the expression value for each gene.\n",
    "\n"
   ]
  },
  {
   "cell_type": "markdown",
   "metadata": {},
   "source": [
    "### Setup "
   ]
  },
  {
   "cell_type": "code",
   "execution_count": 1,
   "metadata": {},
   "outputs": [],
   "source": [
    "%matplotlib inline\n",
    "import matplotlib.pyplot as plt\n",
    "import seaborn as sns\n",
    "import altair"
   ]
  },
  {
   "cell_type": "code",
   "execution_count": 2,
   "metadata": {},
   "outputs": [],
   "source": [
    "import pandas as pd\n",
    "import numpy as np\n",
    "import networkx as nx\n",
    "import scipy\n",
    "import re\n",
    "from io import StringIO\n",
    "from sklearn.decomposition import PCA\n",
    "from scipy.cluster.hierarchy import linkage, dendrogram, fcluster\n",
    "from scipy.spatial.distance import squareform"
   ]
  },
  {
   "cell_type": "markdown",
   "metadata": {},
   "source": [
    "### Read in data"
   ]
  },
  {
   "cell_type": "code",
   "execution_count": 3,
   "metadata": {},
   "outputs": [],
   "source": [
    "raw_expression = pd.read_csv('flyatlas_subset.csv.gz', index_col=0)"
   ]
  },
  {
   "cell_type": "code",
   "execution_count": 4,
   "metadata": {},
   "outputs": [
    {
     "data": {
      "text/html": [
       "<div>\n",
       "<style scoped>\n",
       "    .dataframe tbody tr th:only-of-type {\n",
       "        vertical-align: middle;\n",
       "    }\n",
       "\n",
       "    .dataframe tbody tr th {\n",
       "        vertical-align: top;\n",
       "    }\n",
       "\n",
       "    .dataframe thead th {\n",
       "        text-align: right;\n",
       "    }\n",
       "</style>\n",
       "<table border=\"1\" class=\"dataframe\">\n",
       "  <thead>\n",
       "    <tr style=\"text-align: right;\">\n",
       "      <th></th>\n",
       "      <th>Adult Hind Gut biological rep1</th>\n",
       "      <th>Adult Hind Gut biological rep2</th>\n",
       "      <th>Adult Hind Gut biological rep3</th>\n",
       "      <th>Adult Hind Gut biological rep4</th>\n",
       "      <th>Adult Mid Gut biological rep1</th>\n",
       "      <th>Adult Mid Gut biological rep2</th>\n",
       "      <th>Adult Mid Gut biological rep3</th>\n",
       "      <th>Adult Mid Gut biological rep4</th>\n",
       "      <th>Adult Accessory gland biological rep1</th>\n",
       "      <th>Adult Accessory gland biological rep2</th>\n",
       "      <th>...</th>\n",
       "      <th>Adult Thoracic Muscle biological rep3</th>\n",
       "      <th>Adult Thoracic Muscle biological rep4</th>\n",
       "      <th>Adult Wings biological rep1</th>\n",
       "      <th>Adult Wings biological rep2</th>\n",
       "      <th>Adult Wings biological rep3</th>\n",
       "      <th>Adult Wings biological rep4</th>\n",
       "      <th>Adult Female Spermatheca Mated (REDONE) biological rep1</th>\n",
       "      <th>Adult Female Spermatheca Mated (REDONE) biological rep2</th>\n",
       "      <th>Adult Female Spermatheca Mated (REDONE) biological rep3</th>\n",
       "      <th>Adult Female Spermatheca Mated (REDONE) biological rep4\"\\n</th>\n",
       "    </tr>\n",
       "    <tr>\n",
       "      <th>Gene Symbol</th>\n",
       "      <th></th>\n",
       "      <th></th>\n",
       "      <th></th>\n",
       "      <th></th>\n",
       "      <th></th>\n",
       "      <th></th>\n",
       "      <th></th>\n",
       "      <th></th>\n",
       "      <th></th>\n",
       "      <th></th>\n",
       "      <th></th>\n",
       "      <th></th>\n",
       "      <th></th>\n",
       "      <th></th>\n",
       "      <th></th>\n",
       "      <th></th>\n",
       "      <th></th>\n",
       "      <th></th>\n",
       "      <th></th>\n",
       "      <th></th>\n",
       "      <th></th>\n",
       "    </tr>\n",
       "  </thead>\n",
       "  <tbody>\n",
       "    <tr>\n",
       "      <th>128up</th>\n",
       "      <td>214.51500</td>\n",
       "      <td>246.59700</td>\n",
       "      <td>216.58100</td>\n",
       "      <td>221.66700</td>\n",
       "      <td>264.602000</td>\n",
       "      <td>281.02000</td>\n",
       "      <td>300.132000</td>\n",
       "      <td>255.19500</td>\n",
       "      <td>427.68900</td>\n",
       "      <td>467.309000</td>\n",
       "      <td>...</td>\n",
       "      <td>113.9360</td>\n",
       "      <td>363.59600</td>\n",
       "      <td>196.98400</td>\n",
       "      <td>262.50700</td>\n",
       "      <td>181.05800</td>\n",
       "      <td>204.36200</td>\n",
       "      <td>380.878000</td>\n",
       "      <td>112.6860</td>\n",
       "      <td>294.49000</td>\n",
       "      <td>329.094000</td>\n",
       "    </tr>\n",
       "    <tr>\n",
       "      <th>140up</th>\n",
       "      <td>139.86300</td>\n",
       "      <td>181.65600</td>\n",
       "      <td>143.80200</td>\n",
       "      <td>149.44800</td>\n",
       "      <td>92.043300</td>\n",
       "      <td>82.10540</td>\n",
       "      <td>77.407200</td>\n",
       "      <td>91.44190</td>\n",
       "      <td>116.91800</td>\n",
       "      <td>124.892000</td>\n",
       "      <td>...</td>\n",
       "      <td>155.8030</td>\n",
       "      <td>110.83100</td>\n",
       "      <td>79.40570</td>\n",
       "      <td>81.80540</td>\n",
       "      <td>76.40320</td>\n",
       "      <td>68.40710</td>\n",
       "      <td>85.908800</td>\n",
       "      <td>128.3340</td>\n",
       "      <td>87.18940</td>\n",
       "      <td>104.890000</td>\n",
       "    </tr>\n",
       "    <tr>\n",
       "      <th>18w</th>\n",
       "      <td>241.72200</td>\n",
       "      <td>247.02900</td>\n",
       "      <td>245.75500</td>\n",
       "      <td>262.18900</td>\n",
       "      <td>54.108400</td>\n",
       "      <td>60.05170</td>\n",
       "      <td>60.698900</td>\n",
       "      <td>54.93600</td>\n",
       "      <td>33.02630</td>\n",
       "      <td>39.497000</td>\n",
       "      <td>...</td>\n",
       "      <td>100.4050</td>\n",
       "      <td>294.09100</td>\n",
       "      <td>772.38800</td>\n",
       "      <td>700.44800</td>\n",
       "      <td>752.14300</td>\n",
       "      <td>754.71500</td>\n",
       "      <td>285.764000</td>\n",
       "      <td>66.5310</td>\n",
       "      <td>248.04200</td>\n",
       "      <td>264.250000</td>\n",
       "    </tr>\n",
       "    <tr>\n",
       "      <th>312</th>\n",
       "      <td>4.16597</td>\n",
       "      <td>2.60007</td>\n",
       "      <td>3.53377</td>\n",
       "      <td>4.60587</td>\n",
       "      <td>0.194508</td>\n",
       "      <td>0.57742</td>\n",
       "      <td>0.977839</td>\n",
       "      <td>2.65123</td>\n",
       "      <td>8.84807</td>\n",
       "      <td>0.342770</td>\n",
       "      <td>...</td>\n",
       "      <td>68.3797</td>\n",
       "      <td>0.36183</td>\n",
       "      <td>7.03675</td>\n",
       "      <td>2.94253</td>\n",
       "      <td>8.25821</td>\n",
       "      <td>5.44387</td>\n",
       "      <td>5.008850</td>\n",
       "      <td>35.0969</td>\n",
       "      <td>2.39418</td>\n",
       "      <td>2.270310</td>\n",
       "    </tr>\n",
       "    <tr>\n",
       "      <th>7B2</th>\n",
       "      <td>25.78430</td>\n",
       "      <td>19.12000</td>\n",
       "      <td>34.80000</td>\n",
       "      <td>21.64910</td>\n",
       "      <td>89.001700</td>\n",
       "      <td>116.57100</td>\n",
       "      <td>114.170000</td>\n",
       "      <td>123.40500</td>\n",
       "      <td>2.34292</td>\n",
       "      <td>0.618435</td>\n",
       "      <td>...</td>\n",
       "      <td>175.8510</td>\n",
       "      <td>1.38861</td>\n",
       "      <td>172.11500</td>\n",
       "      <td>194.96700</td>\n",
       "      <td>128.78000</td>\n",
       "      <td>183.37900</td>\n",
       "      <td>0.842605</td>\n",
       "      <td>16.0162</td>\n",
       "      <td>2.64286</td>\n",
       "      <td>0.579274</td>\n",
       "    </tr>\n",
       "  </tbody>\n",
       "</table>\n",
       "<p>5 rows × 136 columns</p>\n",
       "</div>"
      ],
      "text/plain": [
       "             Adult Hind Gut biological rep1  Adult Hind Gut biological rep2  \\\n",
       "Gene Symbol                                                                   \n",
       "128up                             214.51500                       246.59700   \n",
       "140up                             139.86300                       181.65600   \n",
       "18w                               241.72200                       247.02900   \n",
       "312                                 4.16597                         2.60007   \n",
       "7B2                                25.78430                        19.12000   \n",
       "\n",
       "             Adult Hind Gut biological rep3  Adult Hind Gut biological rep4  \\\n",
       "Gene Symbol                                                                   \n",
       "128up                             216.58100                       221.66700   \n",
       "140up                             143.80200                       149.44800   \n",
       "18w                               245.75500                       262.18900   \n",
       "312                                 3.53377                         4.60587   \n",
       "7B2                                34.80000                        21.64910   \n",
       "\n",
       "             Adult Mid Gut biological rep1  Adult Mid Gut biological rep2  \\\n",
       "Gene Symbol                                                                 \n",
       "128up                           264.602000                      281.02000   \n",
       "140up                            92.043300                       82.10540   \n",
       "18w                              54.108400                       60.05170   \n",
       "312                               0.194508                        0.57742   \n",
       "7B2                              89.001700                      116.57100   \n",
       "\n",
       "             Adult Mid Gut biological rep3  Adult Mid Gut biological rep4  \\\n",
       "Gene Symbol                                                                 \n",
       "128up                           300.132000                      255.19500   \n",
       "140up                            77.407200                       91.44190   \n",
       "18w                              60.698900                       54.93600   \n",
       "312                               0.977839                        2.65123   \n",
       "7B2                             114.170000                      123.40500   \n",
       "\n",
       "             Adult Accessory gland biological rep1  \\\n",
       "Gene Symbol                                          \n",
       "128up                                    427.68900   \n",
       "140up                                    116.91800   \n",
       "18w                                       33.02630   \n",
       "312                                        8.84807   \n",
       "7B2                                        2.34292   \n",
       "\n",
       "             Adult Accessory gland biological rep2  ...  \\\n",
       "Gene Symbol                                         ...   \n",
       "128up                                   467.309000  ...   \n",
       "140up                                   124.892000  ...   \n",
       "18w                                      39.497000  ...   \n",
       "312                                       0.342770  ...   \n",
       "7B2                                       0.618435  ...   \n",
       "\n",
       "             Adult Thoracic Muscle biological rep3  \\\n",
       "Gene Symbol                                          \n",
       "128up                                     113.9360   \n",
       "140up                                     155.8030   \n",
       "18w                                       100.4050   \n",
       "312                                        68.3797   \n",
       "7B2                                       175.8510   \n",
       "\n",
       "             Adult Thoracic Muscle biological rep4  \\\n",
       "Gene Symbol                                          \n",
       "128up                                    363.59600   \n",
       "140up                                    110.83100   \n",
       "18w                                      294.09100   \n",
       "312                                        0.36183   \n",
       "7B2                                        1.38861   \n",
       "\n",
       "             Adult Wings biological rep1  Adult Wings biological rep2  \\\n",
       "Gene Symbol                                                             \n",
       "128up                          196.98400                    262.50700   \n",
       "140up                           79.40570                     81.80540   \n",
       "18w                            772.38800                    700.44800   \n",
       "312                              7.03675                      2.94253   \n",
       "7B2                            172.11500                    194.96700   \n",
       "\n",
       "             Adult Wings biological rep3  Adult Wings biological rep4  \\\n",
       "Gene Symbol                                                             \n",
       "128up                          181.05800                    204.36200   \n",
       "140up                           76.40320                     68.40710   \n",
       "18w                            752.14300                    754.71500   \n",
       "312                              8.25821                      5.44387   \n",
       "7B2                            128.78000                    183.37900   \n",
       "\n",
       "             Adult Female Spermatheca Mated (REDONE) biological rep1  \\\n",
       "Gene Symbol                                                            \n",
       "128up                                               380.878000         \n",
       "140up                                                85.908800         \n",
       "18w                                                 285.764000         \n",
       "312                                                   5.008850         \n",
       "7B2                                                   0.842605         \n",
       "\n",
       "             Adult Female Spermatheca Mated (REDONE) biological rep2  \\\n",
       "Gene Symbol                                                            \n",
       "128up                                                 112.6860         \n",
       "140up                                                 128.3340         \n",
       "18w                                                    66.5310         \n",
       "312                                                    35.0969         \n",
       "7B2                                                    16.0162         \n",
       "\n",
       "             Adult Female Spermatheca Mated (REDONE) biological rep3  \\\n",
       "Gene Symbol                                                            \n",
       "128up                                                294.49000         \n",
       "140up                                                 87.18940         \n",
       "18w                                                  248.04200         \n",
       "312                                                    2.39418         \n",
       "7B2                                                    2.64286         \n",
       "\n",
       "             Adult Female Spermatheca Mated (REDONE) biological rep4\"\\n  \n",
       "Gene Symbol                                                              \n",
       "128up                                               329.094000           \n",
       "140up                                               104.890000           \n",
       "18w                                                 264.250000           \n",
       "312                                                   2.270310           \n",
       "7B2                                                   0.579274           \n",
       "\n",
       "[5 rows x 136 columns]"
      ]
     },
     "execution_count": 4,
     "metadata": {},
     "output_type": "execute_result"
    }
   ],
   "source": [
    "raw_expression.head()"
   ]
  },
  {
   "cell_type": "markdown",
   "metadata": {},
   "source": [
    "The data frame has 18952 rows (measurements) and 136 columns (samples) so it is certainly high dimensional.These 136 columns represent 4 replicates each from 34 different tissue types."
   ]
  },
  {
   "cell_type": "markdown",
   "metadata": {},
   "source": [
    "We will set numpy and pandas to display numbers to just two decimal places in this notebook - this won't affect the actual numbers, just their display, and you can change it if you prefer."
   ]
  },
  {
   "cell_type": "code",
   "execution_count": 5,
   "metadata": {},
   "outputs": [],
   "source": [
    "np.set_printoptions(precision=2)\n",
    "pd.options.display.precision=2"
   ]
  },
  {
   "cell_type": "code",
   "execution_count": 6,
   "metadata": {},
   "outputs": [
    {
     "data": {
      "text/html": [
       "<div>\n",
       "<style scoped>\n",
       "    .dataframe tbody tr th:only-of-type {\n",
       "        vertical-align: middle;\n",
       "    }\n",
       "\n",
       "    .dataframe tbody tr th {\n",
       "        vertical-align: top;\n",
       "    }\n",
       "\n",
       "    .dataframe thead th {\n",
       "        text-align: right;\n",
       "    }\n",
       "</style>\n",
       "<table border=\"1\" class=\"dataframe\">\n",
       "  <thead>\n",
       "    <tr style=\"text-align: right;\">\n",
       "      <th></th>\n",
       "      <th>Adult Hind Gut biological rep1</th>\n",
       "      <th>Adult Hind Gut biological rep2</th>\n",
       "      <th>Adult Hind Gut biological rep3</th>\n",
       "      <th>Adult Hind Gut biological rep4</th>\n",
       "      <th>Adult Mid Gut biological rep1</th>\n",
       "      <th>Adult Mid Gut biological rep2</th>\n",
       "      <th>Adult Mid Gut biological rep3</th>\n",
       "      <th>Adult Mid Gut biological rep4</th>\n",
       "      <th>Adult Accessory gland biological rep1</th>\n",
       "      <th>Adult Accessory gland biological rep2</th>\n",
       "      <th>...</th>\n",
       "      <th>Adult Thoracic Muscle biological rep3</th>\n",
       "      <th>Adult Thoracic Muscle biological rep4</th>\n",
       "      <th>Adult Wings biological rep1</th>\n",
       "      <th>Adult Wings biological rep2</th>\n",
       "      <th>Adult Wings biological rep3</th>\n",
       "      <th>Adult Wings biological rep4</th>\n",
       "      <th>Adult Female Spermatheca Mated (REDONE) biological rep1</th>\n",
       "      <th>Adult Female Spermatheca Mated (REDONE) biological rep2</th>\n",
       "      <th>Adult Female Spermatheca Mated (REDONE) biological rep3</th>\n",
       "      <th>Adult Female Spermatheca Mated (REDONE) biological rep4\"\\n</th>\n",
       "    </tr>\n",
       "    <tr>\n",
       "      <th>Gene Symbol</th>\n",
       "      <th></th>\n",
       "      <th></th>\n",
       "      <th></th>\n",
       "      <th></th>\n",
       "      <th></th>\n",
       "      <th></th>\n",
       "      <th></th>\n",
       "      <th></th>\n",
       "      <th></th>\n",
       "      <th></th>\n",
       "      <th></th>\n",
       "      <th></th>\n",
       "      <th></th>\n",
       "      <th></th>\n",
       "      <th></th>\n",
       "      <th></th>\n",
       "      <th></th>\n",
       "      <th></th>\n",
       "      <th></th>\n",
       "      <th></th>\n",
       "      <th></th>\n",
       "    </tr>\n",
       "  </thead>\n",
       "  <tbody>\n",
       "    <tr>\n",
       "      <th>128up</th>\n",
       "      <td>214.51</td>\n",
       "      <td>246.60</td>\n",
       "      <td>216.58</td>\n",
       "      <td>221.67</td>\n",
       "      <td>264.60</td>\n",
       "      <td>281.02</td>\n",
       "      <td>300.13</td>\n",
       "      <td>255.19</td>\n",
       "      <td>427.69</td>\n",
       "      <td>467.31</td>\n",
       "      <td>...</td>\n",
       "      <td>113.94</td>\n",
       "      <td>363.60</td>\n",
       "      <td>196.98</td>\n",
       "      <td>262.51</td>\n",
       "      <td>181.06</td>\n",
       "      <td>204.36</td>\n",
       "      <td>380.88</td>\n",
       "      <td>112.69</td>\n",
       "      <td>294.49</td>\n",
       "      <td>329.09</td>\n",
       "    </tr>\n",
       "    <tr>\n",
       "      <th>140up</th>\n",
       "      <td>139.86</td>\n",
       "      <td>181.66</td>\n",
       "      <td>143.80</td>\n",
       "      <td>149.45</td>\n",
       "      <td>92.04</td>\n",
       "      <td>82.11</td>\n",
       "      <td>77.41</td>\n",
       "      <td>91.44</td>\n",
       "      <td>116.92</td>\n",
       "      <td>124.89</td>\n",
       "      <td>...</td>\n",
       "      <td>155.80</td>\n",
       "      <td>110.83</td>\n",
       "      <td>79.41</td>\n",
       "      <td>81.81</td>\n",
       "      <td>76.40</td>\n",
       "      <td>68.41</td>\n",
       "      <td>85.91</td>\n",
       "      <td>128.33</td>\n",
       "      <td>87.19</td>\n",
       "      <td>104.89</td>\n",
       "    </tr>\n",
       "    <tr>\n",
       "      <th>18w</th>\n",
       "      <td>241.72</td>\n",
       "      <td>247.03</td>\n",
       "      <td>245.75</td>\n",
       "      <td>262.19</td>\n",
       "      <td>54.11</td>\n",
       "      <td>60.05</td>\n",
       "      <td>60.70</td>\n",
       "      <td>54.94</td>\n",
       "      <td>33.03</td>\n",
       "      <td>39.50</td>\n",
       "      <td>...</td>\n",
       "      <td>100.41</td>\n",
       "      <td>294.09</td>\n",
       "      <td>772.39</td>\n",
       "      <td>700.45</td>\n",
       "      <td>752.14</td>\n",
       "      <td>754.72</td>\n",
       "      <td>285.76</td>\n",
       "      <td>66.53</td>\n",
       "      <td>248.04</td>\n",
       "      <td>264.25</td>\n",
       "    </tr>\n",
       "    <tr>\n",
       "      <th>312</th>\n",
       "      <td>4.17</td>\n",
       "      <td>2.60</td>\n",
       "      <td>3.53</td>\n",
       "      <td>4.61</td>\n",
       "      <td>0.19</td>\n",
       "      <td>0.58</td>\n",
       "      <td>0.98</td>\n",
       "      <td>2.65</td>\n",
       "      <td>8.85</td>\n",
       "      <td>0.34</td>\n",
       "      <td>...</td>\n",
       "      <td>68.38</td>\n",
       "      <td>0.36</td>\n",
       "      <td>7.04</td>\n",
       "      <td>2.94</td>\n",
       "      <td>8.26</td>\n",
       "      <td>5.44</td>\n",
       "      <td>5.01</td>\n",
       "      <td>35.10</td>\n",
       "      <td>2.39</td>\n",
       "      <td>2.27</td>\n",
       "    </tr>\n",
       "    <tr>\n",
       "      <th>7B2</th>\n",
       "      <td>25.78</td>\n",
       "      <td>19.12</td>\n",
       "      <td>34.80</td>\n",
       "      <td>21.65</td>\n",
       "      <td>89.00</td>\n",
       "      <td>116.57</td>\n",
       "      <td>114.17</td>\n",
       "      <td>123.41</td>\n",
       "      <td>2.34</td>\n",
       "      <td>0.62</td>\n",
       "      <td>...</td>\n",
       "      <td>175.85</td>\n",
       "      <td>1.39</td>\n",
       "      <td>172.12</td>\n",
       "      <td>194.97</td>\n",
       "      <td>128.78</td>\n",
       "      <td>183.38</td>\n",
       "      <td>0.84</td>\n",
       "      <td>16.02</td>\n",
       "      <td>2.64</td>\n",
       "      <td>0.58</td>\n",
       "    </tr>\n",
       "  </tbody>\n",
       "</table>\n",
       "<p>5 rows × 136 columns</p>\n",
       "</div>"
      ],
      "text/plain": [
       "             Adult Hind Gut biological rep1  Adult Hind Gut biological rep2  \\\n",
       "Gene Symbol                                                                   \n",
       "128up                                214.51                          246.60   \n",
       "140up                                139.86                          181.66   \n",
       "18w                                  241.72                          247.03   \n",
       "312                                    4.17                            2.60   \n",
       "7B2                                   25.78                           19.12   \n",
       "\n",
       "             Adult Hind Gut biological rep3  Adult Hind Gut biological rep4  \\\n",
       "Gene Symbol                                                                   \n",
       "128up                                216.58                          221.67   \n",
       "140up                                143.80                          149.45   \n",
       "18w                                  245.75                          262.19   \n",
       "312                                    3.53                            4.61   \n",
       "7B2                                   34.80                           21.65   \n",
       "\n",
       "             Adult Mid Gut biological rep1  Adult Mid Gut biological rep2  \\\n",
       "Gene Symbol                                                                 \n",
       "128up                               264.60                         281.02   \n",
       "140up                                92.04                          82.11   \n",
       "18w                                  54.11                          60.05   \n",
       "312                                   0.19                           0.58   \n",
       "7B2                                  89.00                         116.57   \n",
       "\n",
       "             Adult Mid Gut biological rep3  Adult Mid Gut biological rep4  \\\n",
       "Gene Symbol                                                                 \n",
       "128up                               300.13                         255.19   \n",
       "140up                                77.41                          91.44   \n",
       "18w                                  60.70                          54.94   \n",
       "312                                   0.98                           2.65   \n",
       "7B2                                 114.17                         123.41   \n",
       "\n",
       "             Adult Accessory gland biological rep1  \\\n",
       "Gene Symbol                                          \n",
       "128up                                       427.69   \n",
       "140up                                       116.92   \n",
       "18w                                          33.03   \n",
       "312                                           8.85   \n",
       "7B2                                           2.34   \n",
       "\n",
       "             Adult Accessory gland biological rep2  ...  \\\n",
       "Gene Symbol                                         ...   \n",
       "128up                                       467.31  ...   \n",
       "140up                                       124.89  ...   \n",
       "18w                                          39.50  ...   \n",
       "312                                           0.34  ...   \n",
       "7B2                                           0.62  ...   \n",
       "\n",
       "             Adult Thoracic Muscle biological rep3  \\\n",
       "Gene Symbol                                          \n",
       "128up                                       113.94   \n",
       "140up                                       155.80   \n",
       "18w                                         100.41   \n",
       "312                                          68.38   \n",
       "7B2                                         175.85   \n",
       "\n",
       "             Adult Thoracic Muscle biological rep4  \\\n",
       "Gene Symbol                                          \n",
       "128up                                       363.60   \n",
       "140up                                       110.83   \n",
       "18w                                         294.09   \n",
       "312                                           0.36   \n",
       "7B2                                           1.39   \n",
       "\n",
       "             Adult Wings biological rep1  Adult Wings biological rep2  \\\n",
       "Gene Symbol                                                             \n",
       "128up                             196.98                       262.51   \n",
       "140up                              79.41                        81.81   \n",
       "18w                               772.39                       700.45   \n",
       "312                                 7.04                         2.94   \n",
       "7B2                               172.12                       194.97   \n",
       "\n",
       "             Adult Wings biological rep3  Adult Wings biological rep4  \\\n",
       "Gene Symbol                                                             \n",
       "128up                             181.06                       204.36   \n",
       "140up                              76.40                        68.41   \n",
       "18w                               752.14                       754.72   \n",
       "312                                 8.26                         5.44   \n",
       "7B2                               128.78                       183.38   \n",
       "\n",
       "             Adult Female Spermatheca Mated (REDONE) biological rep1  \\\n",
       "Gene Symbol                                                            \n",
       "128up                                                   380.88         \n",
       "140up                                                    85.91         \n",
       "18w                                                     285.76         \n",
       "312                                                       5.01         \n",
       "7B2                                                       0.84         \n",
       "\n",
       "             Adult Female Spermatheca Mated (REDONE) biological rep2  \\\n",
       "Gene Symbol                                                            \n",
       "128up                                                   112.69         \n",
       "140up                                                   128.33         \n",
       "18w                                                      66.53         \n",
       "312                                                      35.10         \n",
       "7B2                                                      16.02         \n",
       "\n",
       "             Adult Female Spermatheca Mated (REDONE) biological rep3  \\\n",
       "Gene Symbol                                                            \n",
       "128up                                                   294.49         \n",
       "140up                                                    87.19         \n",
       "18w                                                     248.04         \n",
       "312                                                       2.39         \n",
       "7B2                                                       2.64         \n",
       "\n",
       "             Adult Female Spermatheca Mated (REDONE) biological rep4\"\\n  \n",
       "Gene Symbol                                                              \n",
       "128up                                                   329.09           \n",
       "140up                                                   104.89           \n",
       "18w                                                     264.25           \n",
       "312                                                       2.27           \n",
       "7B2                                                       0.58           \n",
       "\n",
       "[5 rows x 136 columns]"
      ]
     },
     "execution_count": 6,
     "metadata": {},
     "output_type": "execute_result"
    }
   ],
   "source": [
    "# The actual stored numbers have not changed\n",
    "raw_expression.head()"
   ]
  },
  {
   "cell_type": "markdown",
   "metadata": {},
   "source": [
    "<br>It's common practice to take the log of expression values. Here is a visual motivation as to why this may be useful:"
   ]
  },
  {
   "cell_type": "code",
   "execution_count": 15,
   "metadata": {},
   "outputs": [
    {
     "data": {
      "image/png": "[encoded data removed]",
      "text/plain": [
       "<Figure size 1152x432 with 2 Axes>"
      ]
     },
     "metadata": {
      "needs_background": "light"
     },
     "output_type": "display_data"
    }
   ],
   "source": [
    "log_expression = np.log(raw_expression + 1)\n",
    "\n",
    "fig, (ax1, ax2) = plt.subplots(1, 2, figsize=(16, 6))\n",
    "ax1.hist(raw_expression.values.flatten(), bins=200)\n",
    "ax1.set_title('raw expression')\n",
    "ax1.set_xlabel('expression value')\n",
    "ax1.set_ylabel('num occurrences')\n",
    "ax2.hist(log_expression.values.flatten(), bins=200)\n",
    "ax2.set_title('log expression')\n",
    "ax2.set_xlabel('expression value')\n",
    "ax2.set_ylabel('num occurrences')\n",
    "plt.show()"
   ]
  },
  {
   "cell_type": "markdown",
   "metadata": {},
   "source": [
    "<br>\n",
    "From here on, we will use 'log_expression' as our sample data"
   ]
  },
  {
   "cell_type": "code",
   "execution_count": null,
   "metadata": {},
   "outputs": [],
   "source": [
    "log_expression = np.log(raw_expression + 1)"
   ]
  },
  {
   "cell_type": "markdown",
   "metadata": {},
   "source": [
    "<br>\n",
    "The following code snippet removes the replicate name from each sample, so we can use these labels as categories for plotting later."
   ]
  },
  {
   "cell_type": "code",
   "execution_count": null,
   "metadata": {},
   "outputs": [],
   "source": [
    "tissues_list = [re.match('(.+?)(( biological)? rep\\d+)', c).group(1)\n",
    "                     for c in raw_expression.columns]\n",
    "tissues = pd.Series(tissues_list, index = raw_expression.columns)"
   ]
  },
  {
   "cell_type": "code",
   "execution_count": null,
   "metadata": {},
   "outputs": [],
   "source": [
    "len(tissues)"
   ]
  },
  {
   "cell_type": "markdown",
   "metadata": {},
   "source": [
    "<br><br>\n",
    "### Task 1 - Building a correlation matrix"
   ]
  },
  {
   "cell_type": "markdown",
   "metadata": {},
   "source": [
    "**Task (1a)**\n",
    "\n",
    "The [FlyAtlas](http://flyatlas.org) dataset contains four biological replicates for each tissue. Combine the biological replicates by calculating the mean expression value for each gene in each tissue."
   ]
  },
  {
   "cell_type": "code",
   "execution_count": null,
   "metadata": {},
   "outputs": [],
   "source": [
    "# ~~ GRADED CELL (1 mark) - complete this cell ~~\n",
    "\n",
    "def average_by_tissue(expression, tissues):\n",
    "    '''\n",
    "    Given a DataFrame of gene expression data, \n",
    "    and a list, array or Series of tissues corresponding to the columns of the dataframe,\n",
    "    average over the expression values in each gene for each tissue type and\n",
    "    return the resulting dataframe. \n",
    "    The columns of the new dataframe should correspond to the provided tissues.\n",
    "    '''\n"
   ]
  },
  {
   "cell_type": "markdown",
   "metadata": {},
   "source": [
    "The below test case should return\n",
    "\n",
    "```\n",
    "      A    B\n",
    "0   4.5  2.5\n",
    "1  10.0  7.0\n",
    "```\n"
   ]
  },
  {
   "cell_type": "code",
   "execution_count": null,
   "metadata": {},
   "outputs": [],
   "source": [
    "test_df = pd.DataFrame([[5,4,3,2],[10,10,6,8]])\n",
    "print(average_by_tissue(test_df, ['A','A','B','B']))"
   ]
  },
  {
   "cell_type": "code",
   "execution_count": null,
   "metadata": {},
   "outputs": [],
   "source": [
    "# Calculate expression for each tissue in the flyatlas data\n",
    "tissue_expression = average_by_tissue(log_expression, tissues)"
   ]
  },
  {
   "cell_type": "code",
   "execution_count": null,
   "metadata": {},
   "outputs": [],
   "source": [
    "tissue_expression.shape"
   ]
  },
  {
   "cell_type": "markdown",
   "metadata": {},
   "source": [
    "**Task (1b)**\n",
    "\n",
    "WGCNA starts by building a pairwise correlation matrix of genes. Using the matrix you just created, produce an *unsigned* correlation matrix where each cell contains the absolute value of the correlation coefficients.\n",
    "\n",
    "You can calculate the Pearson correlation values yourself, or look up a numpy or scipy function to do so."
   ]
  },
  {
   "cell_type": "code",
   "execution_count": null,
   "metadata": {},
   "outputs": [],
   "source": [
    "# ~~ GRADED CELL (2 mark) - complete this cell ~~\n",
    "\n",
    "def calculate_unsigned_correlation(expression):\n",
    "    ''' \n",
    "    Produce the unsigned correlation matrix for a table of gene expression values.\n",
    "    Assume that the columns of the expression matrix are samples and the rows are\n",
    "    genes, and return an array of arrays giving the Pearson correlation between each pair of genes,\n",
    "    in the same order as the rows of the expression table.\n",
    "    '''\n"
   ]
  },
  {
   "cell_type": "markdown",
   "metadata": {},
   "source": [
    "The below test case should return (if displayed to a precision of two decimal places)\n",
    "\n",
    "```\n",
    "array([[ 1.  ,  0.95,  0.96,  0.44,  0.3 ,  0.15],\n",
    "       [ 0.95,  1.  ,  1.  ,  0.71,  0.59,  0.46],\n",
    "       [ 0.96,  1.  ,  1.  ,  0.67,  0.54,  0.41],\n",
    "       [ 0.44,  0.71,  0.67,  1.  ,  0.99,  0.95],\n",
    "       [ 0.3 ,  0.59,  0.54,  0.99,  1.  ,  0.99],\n",
    "       [ 0.15,  0.46,  0.41,  0.95,  0.99,  1.  ]])\n",
    "```"
   ]
  },
  {
   "cell_type": "code",
   "execution_count": null,
   "metadata": {},
   "outputs": [],
   "source": [
    "test_df = pd.DataFrame([[ 3.8,  2.7,  4.5],\n",
    "                       [ 4.3,  3.4,  6.2],\n",
    "                       [ 5.3,  4.3,  7. ],\n",
    "                       [ 4.6,  6. ,  7.7],\n",
    "                       [ 5.2,  7.3,  8.8],\n",
    "                       [ 6.2,  8.5,  9.4]], \n",
    "                         columns=['Tissue1', 'Tissue2', 'Tissue3'],\n",
    "                         index=['GeneA', 'GeneB', 'GeneC', 'GeneD', 'GeneE', 'GeneF'])\n",
    "calculate_unsigned_correlation(test_df)"
   ]
  },
  {
   "cell_type": "markdown",
   "metadata": {},
   "source": [
    "The below test case should return (if displayed to a precision of two decimal places)\n",
    "\n",
    "```\n",
    "array([[ 1.  ,  0.95,  0.3 ,  0.15],\n",
    "       [ 0.95,  1.  ,  0.59,  0.46],\n",
    "       [ 0.3 ,  0.59,  1.  ,  0.99],\n",
    "       [ 0.15,  0.46,  0.99,  1.  ]])\n",
    "```"
   ]
  },
  {
   "cell_type": "code",
   "execution_count": null,
   "metadata": {},
   "outputs": [],
   "source": [
    "test_df = pd.DataFrame([[ 3.8,  2.7,  4.5],\n",
    "                       [ 4.3,  3.4,  6.2],\n",
    "                       [ 5.2,  7.3,  8.8],\n",
    "                       [ 6.2,  8.5,  9.4]], \n",
    "                         columns=['Tissue1', 'Tissue2', 'Tissue3'],\n",
    "                         index=['GeneA', 'GeneB', 'GeneC', 'GeneD'])\n",
    "calculate_unsigned_correlation(test_df)"
   ]
  },
  {
   "cell_type": "code",
   "execution_count": null,
   "metadata": {},
   "outputs": [],
   "source": [
    "# Calculate the correlation matrix for the flyatlas data\n",
    "unsigned_correlation = calculate_unsigned_correlation(tissue_expression)\n",
    "_ = plt.hist(unsigned_correlation.flatten(), bins=100)"
   ]
  },
  {
   "cell_type": "markdown",
   "metadata": {},
   "source": [
    "<br>\n",
    "**TASK (1c)** Why are we using an unsigned correlation matrix instead of a signed correlation matrix? (max 50 words)"
   ]
  },
  {
   "cell_type": "code",
   "execution_count": null,
   "metadata": {},
   "outputs": [],
   "source": [
    "# ~~ GRADED CELL (1 mark) - your answer here --"
   ]
  },
  {
   "cell_type": "markdown",
   "metadata": {},
   "source": [
    "\n",
    "### Task 2 - Building an adjacency matrix"
   ]
  },
  {
   "cell_type": "markdown",
   "metadata": {},
   "source": [
    "To use the correlation matrix to create a network, we will transform it into an adjacency matrix. You will create two types of adjacency matrix, a binary adjacency matrix and a weighted adjacency matrix."
   ]
  },
  {
   "cell_type": "markdown",
   "metadata": {},
   "source": [
    "**Task (2a)**\n",
    "\n",
    "To create the binary adjacency matrix, transform the correlation matrix such that every correlation greater than or equal to a given threshold value is considered adjacent (represented by a 1 in the matrix), and every correlation below that value is considered not adjacent (represented by a 0). Set the diagonal of the adjacency matrix to 0, so that we don't consider a node to be adjacent to itself."
   ]
  },
  {
   "cell_type": "code",
   "execution_count": null,
   "metadata": {},
   "outputs": [],
   "source": [
    "# ~~ GRADED CELL (1 marks) - complete this cell ~~\n",
    "\n",
    "def calculate_binary_adjacencies(correlation, threshold):\n",
    "    '''\n",
    "    Given a correlation matrix between genes of shape (N,N),\n",
    "    return the corresponding binary adjacency matrix of shape (N,N),\n",
    "    where correlation values are above the given threshold.\n",
    "    '''\n"
   ]
  },
  {
   "cell_type": "markdown",
   "metadata": {},
   "source": [
    "The below test case should return (if displayed to a precision of two decimal places)\n",
    "\n",
    "```\n",
    "array([[ 0.,  1.,  0.,  0.],\n",
    "       [ 1.,  0.,  1.,  0.],\n",
    "       [ 0.,  1.,  0.,  1.],\n",
    "       [ 0.,  0.,  1.,  0.]])\n",
    "```"
   ]
  },
  {
   "cell_type": "code",
   "execution_count": null,
   "metadata": {},
   "outputs": [],
   "source": [
    "test_corr = np.array([[ 1.  ,  0.95,  0.3 ,  0.15],\n",
    "       [ 0.95,  1.  ,  0.59,  0.46],\n",
    "       [ 0.3 ,  0.59,  1.  ,  0.99],\n",
    "       [ 0.15,  0.46,  0.99,  1.  ]])\n",
    "calculate_binary_adjacencies(test_corr, 0.5)"
   ]
  },
  {
   "cell_type": "markdown",
   "metadata": {},
   "source": [
    "The below test case should return (if displayed to a precision of two decimal places)\n",
    "\n",
    "```\n",
    "array([[ 0.,  1.,  0.,  0.],\n",
    "       [ 1.,  0.,  0.,  0.],\n",
    "       [ 0.,  0.,  0.,  1.],\n",
    "       [ 0.,  0.,  1.,  0.]])\n",
    "```"
   ]
  },
  {
   "cell_type": "code",
   "execution_count": null,
   "metadata": {},
   "outputs": [],
   "source": [
    "test_corr = np.array([[ 1.  ,  0.95,  0.3 ,  0.15],\n",
    "       [ 0.95,  1.  ,  0.59,  0.46],\n",
    "       [ 0.3 ,  0.59,  1.  ,  0.99],\n",
    "       [ 0.15,  0.46,  0.99,  1.  ]])\n",
    "calculate_binary_adjacencies(test_corr, 0.6)"
   ]
  },
  {
   "cell_type": "code",
   "execution_count": null,
   "metadata": {},
   "outputs": [],
   "source": [
    "# Calculate the binary adjacency matrix for the flyatlas data\n",
    "adjacency_binary = calculate_binary_adjacencies(unsigned_correlation, 0.85)"
   ]
  },
  {
   "cell_type": "markdown",
   "metadata": {},
   "source": [
    "**Task (2b)**\n",
    "\n",
    "Calculate the connectivity of the adjacency matrix by dividing the total number of edges by the number of possible edges."
   ]
  },
  {
   "cell_type": "code",
   "execution_count": 6,
   "metadata": {},
   "outputs": [],
   "source": [
    "# ~~ GRADED CELL (1 mark) - complete this cell ~~\n",
    "\n",
    "def calculate_connectivity(adjacency):\n",
    "    '''\n",
    "    Calculate the number of edges that exist in a given binary adjacency matrix,\n",
    "    divided by the total number of possible edges between all nodes.\n",
    "    '''\n",
    "    "
   ]
  },
  {
   "cell_type": "code",
   "execution_count": null,
   "metadata": {},
   "outputs": [],
   "source": [
    "# Should return 0.5\n",
    "calculate_connectivity(np.array([[ 0.,  1.,  0.,  0.],\n",
    "                                   [ 1.,  0.,  1.,  0.],\n",
    "                                   [ 0.,  1.,  0.,  1.],\n",
    "                                   [ 0.,  0.,  1.,  0.]]))"
   ]
  },
  {
   "cell_type": "code",
   "execution_count": null,
   "metadata": {},
   "outputs": [],
   "source": [
    "# Should return 0.33\n",
    "calculate_connectivity(np.array([[ 0.,  1.,  0.,  0.],\n",
    "                                   [ 1.,  0.,  0.,  0.],\n",
    "                                   [ 0.,  0.,  0.,  1.],\n",
    "                                   [ 0.,  0.,  1.,  0.]]))"
   ]
  },
  {
   "cell_type": "code",
   "execution_count": null,
   "metadata": {},
   "outputs": [],
   "source": [
    "calculate_connectivity(adjacency_binary)"
   ]
  },
  {
   "cell_type": "markdown",
   "metadata": {},
   "source": [
    "**Task 2(c)**\n",
    "\n",
    "The weighted adjacency matrix can be created by raising the correlation matrix to some power. Write a function that raises the correlation matrix to some power, `beta`, and sets the diagonal to `0`. For the rest of the assignment we will use `beta = 4` but your function should accept any integer."
   ]
  },
  {
   "cell_type": "code",
   "execution_count": 7,
   "metadata": {},
   "outputs": [],
   "source": [
    "# ~~ GRADED CELL (2 marks) - complete this cell ~~\n",
    "\n",
    "def calculate_weighted_adjacencies(correlation, beta):\n",
    "    '''\n",
    "    Given a correlation matrix between genes of shape (N,N),\n",
    "    return the corresponding binary adjacency matrix of shape (N,N),\n",
    "    where we use a power-law soft threshold with parameter beta.\n",
    "    '''\n"
   ]
  },
  {
   "cell_type": "markdown",
   "metadata": {},
   "source": [
    "The below test case should return (if displayed to a precision of two decimal places)\n",
    "\n",
    "```\n",
    "array([[ 0.  ,  0.9 ,  0.09,  0.02],\n",
    "       [ 0.9 ,  0.  ,  0.35,  0.21],\n",
    "       [ 0.09,  0.35,  0.  ,  0.98],\n",
    "       [ 0.02,  0.21,  0.98,  0.  ]])\n",
    "```"
   ]
  },
  {
   "cell_type": "code",
   "execution_count": null,
   "metadata": {},
   "outputs": [],
   "source": [
    "test_corr = np.array([[ 1.  ,  0.95,  0.3 ,  0.15],\n",
    "       [ 0.95,  1.  ,  0.59,  0.46],\n",
    "       [ 0.3 ,  0.59,  1.  ,  0.99],\n",
    "       [ 0.15,  0.46,  0.99,  1.  ]])\n",
    "calculate_weighted_adjacencies(test_corr, 2)"
   ]
  },
  {
   "cell_type": "markdown",
   "metadata": {},
   "source": [
    "The below test case should return (if displayed to a precision of two decimal places)\n",
    "\n",
    "```\n",
    "array([[ 0.  ,  0.86,  0.03,  0.  ],\n",
    "       [ 0.86,  0.  ,  0.21,  0.1 ],\n",
    "       [ 0.03,  0.21,  0.  ,  0.97],\n",
    "       [ 0.  ,  0.1 ,  0.97,  0.  ]])\n",
    "```"
   ]
  },
  {
   "cell_type": "code",
   "execution_count": null,
   "metadata": {},
   "outputs": [],
   "source": [
    "test_corr = np.array([[ 1.  ,  0.95,  0.3 ,  0.15],\n",
    "       [ 0.95,  1.  ,  0.59,  0.46],\n",
    "       [ 0.3 ,  0.59,  1.  ,  0.99],\n",
    "       [ 0.15,  0.46,  0.99,  1.  ]])\n",
    "calculate_weighted_adjacencies(test_corr, 3)"
   ]
  },
  {
   "cell_type": "code",
   "execution_count": null,
   "metadata": {},
   "outputs": [],
   "source": [
    "# Calculate the weighted adjacency matrix for the flyatlas data\n",
    "adjacency_weighted = calculate_weighted_adjacencies(unsigned_correlation, 4)"
   ]
  },
  {
   "cell_type": "markdown",
   "metadata": {},
   "source": [
    "**Task 2(d)**\n",
    "\n",
    "How do you expect the network connectivity would change if the threshold for the binary adjacency matrix is increased or decreased? (max 50 words)"
   ]
  },
  {
   "cell_type": "code",
   "execution_count": null,
   "metadata": {},
   "outputs": [],
   "source": [
    "# ~~ GRADED CELL (1 mark) - your answer here --"
   ]
  },
  {
   "cell_type": "markdown",
   "metadata": {},
   "source": [
    "### Task 3 - Dimensionality Reduction"
   ]
  },
  {
   "cell_type": "markdown",
   "metadata": {},
   "source": [
    "In this task we will be performing Priciple Components Analysis to determine which gene in the first principle component has the highest contribution to the variance."
   ]
  },
  {
   "cell_type": "markdown",
   "metadata": {},
   "source": [
    "**Task 4(a)**\n",
    "\n",
    "Perform a Principle Componanets Analysis on the log_expression matrix with the correct number of components and print the explained variance by component list."
   ]
  },
  {
   "cell_type": "code",
   "execution_count": null,
   "metadata": {},
   "outputs": [],
   "source": [
    "# ~~ GRADED CELL (1 mark) - complete this cell ~~"
   ]
  },
  {
   "cell_type": "markdown",
   "metadata": {},
   "source": [
    "**Task 4(b)**\n",
    "\n",
    "Print the gene that contributes most to the first eigen vector (the first principle component) of the PCA. The word limit on the second cell is 50 words."
   ]
  },
  {
   "cell_type": "code",
   "execution_count": 1,
   "metadata": {},
   "outputs": [],
   "source": [
    "# ~~ GRADED CELL (2 marks) - complete this cell ~~"
   ]
  },
  {
   "cell_type": "markdown",
   "metadata": {},
   "source": [
    "### Task 4 - Graph Metrics"
   ]
  },
  {
   "cell_type": "markdown",
   "metadata": {},
   "source": [
    "Graph metrics are important parameters to assist in characterising a network as a whole or even the relative importance of specific nodes in a network and could give us hints regarding their importance."
   ]
  },
  {
   "cell_type": "markdown",
   "metadata": {},
   "source": [
    "**Task 5(a)**\n",
    "\n",
    "Normalised Degree Centrality\n",
    "\n",
    "Describe an algorithm in pseudocode that returns the normalised degree centrality of a node (degree divided by the maximum node degree in the graph), receiving as parameters a node index **i** and its binary adjacency matrix **m**."
   ]
  },
  {
   "cell_type": "code",
   "execution_count": null,
   "metadata": {},
   "outputs": [],
   "source": [
    "# ~~ GRADED CELL (2 marks) - your answer here --"
   ]
  },
  {
   "cell_type": "markdown",
   "metadata": {},
   "source": [
    "**Task 5(b)**\n",
    "\n",
    "Closeness Centrality\n",
    "\n",
    "Describe an algorithm in pseudocode that returns the closeness centrality of a node, receiving as parameters a node index **i** and its binary adjacency matrix **m**. As part of your answer you can assume the function *min_dist(a,b,m)* is available. This function will return the minimum distance between nodes a and b in a graph represented by the adjecendy matrix m."
   ]
  },
  {
   "cell_type": "code",
   "execution_count": 10,
   "metadata": {},
   "outputs": [],
   "source": [
    "# ~~ GRADED CELL (2 marks) - your answer here --"
   ]
  },
  {
   "cell_type": "markdown",
   "metadata": {},
   "source": [
    "**Task 5(c)**\n",
    "\n",
    "Clustering Coefficient and Average Path Length are two important properties to distinguish between different network types.\n",
    "\n",
    "Consider that you are working with a particular biological network. Describe briefly, with your own words, how would you use these properties to verify whether your network is consistent with a Random Network, Small-World Network or Regular Lattice Network. (Maximum 150 words).\n"
   ]
  },
  {
   "cell_type": "code",
   "execution_count": 11,
   "metadata": {},
   "outputs": [],
   "source": [
    "# ~~ GRADED CELL (4 marks) - your answer here --"
   ]
  },
  {
   "cell_type": "markdown",
   "metadata": {},
   "source": [
    "# Part II\n",
    "<br>\n",
    "Consider the following scenario. As a Bioinformatician you were given the task of designing a computational approach to organise (in a efficient way) genomic data of over 1,000,000 SARS-CoV2 samples extracted from patients worldwide, as well as patient information from hospitalisations to enable quick data access and to enable a better understanding of variants associated with poor patient outcomes.\n",
    "\n",
    "Each data point is composed of:\n",
    "* A patient ID and further patient information (a list of procedures performed).\n",
    "* A list of variants (variant IDs) identified by sequencing the sample collected from the patient.\n",
    "\n",
    "\n",
    "You are interested in building a single index, using both **patient ID** and **variant ID** to retrieve, include or remove information (list of procedures performed) in O(1) time. Your approach also needs to be memory efficient, O(n), and also built in O(n) time.\n",
    "\n",
    "However, given the ever growing number of available sequences/patients and observed variants using (**patient ID + variant ID**) as a single key becomes impractical for traditional hash tables (considering all possible combinations for both).\n",
    "\n",
    "**a)** Describe with **your own words** how you would implement a computational approach to achieve these requirements using or adapting an abstract data type described during our lectures (you are allowed to draw your data structure if that helps). "
   ]
  },
  {
   "cell_type": "code",
   "execution_count": 16,
   "metadata": {},
   "outputs": [],
   "source": [
    "# ~~ GRADED CELL (10 marks) - your answer here --"
   ]
  },
  {
   "cell_type": "markdown",
   "metadata": {},
   "source": [
    "**(b)** Additionally, also describe in **pseudocode** the functions *search(), insert() and remove()* for your abstract data type. <br>**Python code is not acceptable**. (Maximum of 150 words)"
   ]
  },
  {
   "cell_type": "code",
   "execution_count": 17,
   "metadata": {},
   "outputs": [],
   "source": [
    "# ~~ GRADED CELL (10 marks) - your answer here --"
   ]
  }
 ],
 "metadata": {
  "kernelspec": {
   "display_name": "Python 3",
   "language": "python",
   "name": "python3"
  },
  "language_info": {
   "codemirror_mode": {
    "name": "ipython",
    "version": 3
   },
   "file_extension": ".py",
   "mimetype": "text/x-python",
   "name": "python",
   "nbconvert_exporter": "python",
   "pygments_lexer": "ipython3",
   "version": "3.6.9"
  }
 },
 "nbformat": 4,
 "nbformat_minor": 4
}
